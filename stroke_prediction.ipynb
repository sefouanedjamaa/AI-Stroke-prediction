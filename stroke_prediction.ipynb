{
 "cells": [
  {
   "cell_type": "markdown",
   "metadata": {
    "id": "ASq2O-mqE0XS"
   },
   "source": [
    "# préparation des données"
   ]
  },
  {
   "cell_type": "code",
   "execution_count": 1,
   "metadata": {
    "colab": {
     "base_uri": "https://localhost:8080/",
     "height": 195
    },
    "id": "TaHpsbqFEyt6",
    "outputId": "4c26ec79-1032-4948-97ca-2bb8bf43ea97"
   },
   "outputs": [
    {
     "data": {
      "text/html": [
       "<div>\n",
       "<style scoped>\n",
       "    .dataframe tbody tr th:only-of-type {\n",
       "        vertical-align: middle;\n",
       "    }\n",
       "\n",
       "    .dataframe tbody tr th {\n",
       "        vertical-align: top;\n",
       "    }\n",
       "\n",
       "    .dataframe thead th {\n",
       "        text-align: right;\n",
       "    }\n",
       "</style>\n",
       "<table border=\"1\" class=\"dataframe\">\n",
       "  <thead>\n",
       "    <tr style=\"text-align: right;\">\n",
       "      <th></th>\n",
       "      <th>id</th>\n",
       "      <th>gender</th>\n",
       "      <th>age</th>\n",
       "      <th>hypertension</th>\n",
       "      <th>heart_disease</th>\n",
       "      <th>ever_married</th>\n",
       "      <th>work_type</th>\n",
       "      <th>Residence_type</th>\n",
       "      <th>avg_glucose_level</th>\n",
       "      <th>bmi</th>\n",
       "      <th>smoking_status</th>\n",
       "      <th>stroke</th>\n",
       "    </tr>\n",
       "  </thead>\n",
       "  <tbody>\n",
       "    <tr>\n",
       "      <th>0</th>\n",
       "      <td>9046</td>\n",
       "      <td>Male</td>\n",
       "      <td>67.0</td>\n",
       "      <td>0</td>\n",
       "      <td>1</td>\n",
       "      <td>Yes</td>\n",
       "      <td>Private</td>\n",
       "      <td>Urban</td>\n",
       "      <td>228.69</td>\n",
       "      <td>36.6</td>\n",
       "      <td>formerly smoked</td>\n",
       "      <td>1</td>\n",
       "    </tr>\n",
       "    <tr>\n",
       "      <th>1</th>\n",
       "      <td>51676</td>\n",
       "      <td>Female</td>\n",
       "      <td>61.0</td>\n",
       "      <td>0</td>\n",
       "      <td>0</td>\n",
       "      <td>Yes</td>\n",
       "      <td>Self-employed</td>\n",
       "      <td>Rural</td>\n",
       "      <td>202.21</td>\n",
       "      <td>NaN</td>\n",
       "      <td>never smoked</td>\n",
       "      <td>1</td>\n",
       "    </tr>\n",
       "    <tr>\n",
       "      <th>2</th>\n",
       "      <td>31112</td>\n",
       "      <td>Male</td>\n",
       "      <td>80.0</td>\n",
       "      <td>0</td>\n",
       "      <td>1</td>\n",
       "      <td>Yes</td>\n",
       "      <td>Private</td>\n",
       "      <td>Rural</td>\n",
       "      <td>105.92</td>\n",
       "      <td>32.5</td>\n",
       "      <td>never smoked</td>\n",
       "      <td>1</td>\n",
       "    </tr>\n",
       "    <tr>\n",
       "      <th>3</th>\n",
       "      <td>60182</td>\n",
       "      <td>Female</td>\n",
       "      <td>49.0</td>\n",
       "      <td>0</td>\n",
       "      <td>0</td>\n",
       "      <td>Yes</td>\n",
       "      <td>Private</td>\n",
       "      <td>Urban</td>\n",
       "      <td>171.23</td>\n",
       "      <td>34.4</td>\n",
       "      <td>smokes</td>\n",
       "      <td>1</td>\n",
       "    </tr>\n",
       "    <tr>\n",
       "      <th>4</th>\n",
       "      <td>1665</td>\n",
       "      <td>Female</td>\n",
       "      <td>79.0</td>\n",
       "      <td>1</td>\n",
       "      <td>0</td>\n",
       "      <td>Yes</td>\n",
       "      <td>Self-employed</td>\n",
       "      <td>Rural</td>\n",
       "      <td>174.12</td>\n",
       "      <td>24.0</td>\n",
       "      <td>never smoked</td>\n",
       "      <td>1</td>\n",
       "    </tr>\n",
       "  </tbody>\n",
       "</table>\n",
       "</div>"
      ],
      "text/plain": [
       "      id  gender   age  ...   bmi   smoking_status stroke\n",
       "0   9046    Male  67.0  ...  36.6  formerly smoked      1\n",
       "1  51676  Female  61.0  ...   NaN     never smoked      1\n",
       "2  31112    Male  80.0  ...  32.5     never smoked      1\n",
       "3  60182  Female  49.0  ...  34.4           smokes      1\n",
       "4   1665  Female  79.0  ...  24.0     never smoked      1\n",
       "\n",
       "[5 rows x 12 columns]"
      ]
     },
     "execution_count": 1,
     "metadata": {
      "tags": []
     },
     "output_type": "execute_result"
    }
   ],
   "source": [
    "import pandas as pd # bibliothèque pandas pour le prétraitement des données\n",
    "df = pd.read_csv('healthcare-dataset-stroke-data.csv') # lire les données à l'aide de pandas\n",
    "df.head()# montrant les 5 premières lignes ."
   ]
  },
  {
   "cell_type": "markdown",
   "metadata": {
    "id": "wPQVGqkSegBb"
   },
   "source": [
    "### Les valeurs manquantes"
   ]
  },
  {
   "cell_type": "code",
   "execution_count": 2,
   "metadata": {
    "colab": {
     "base_uri": "https://localhost:8080/"
    },
    "id": "pavySuhwFZyI",
    "outputId": "aec0b9b4-910d-4fc4-f9bb-7837a591d9ab"
   },
   "outputs": [
    {
     "data": {
      "text/plain": [
       "id                     0\n",
       "gender                 0\n",
       "age                    0\n",
       "hypertension           0\n",
       "heart_disease          0\n",
       "ever_married           0\n",
       "work_type              0\n",
       "Residence_type         0\n",
       "avg_glucose_level      0\n",
       "bmi                  201\n",
       "smoking_status         0\n",
       "stroke                 0\n",
       "dtype: int64"
      ]
     },
     "execution_count": 2,
     "metadata": {
      "tags": []
     },
     "output_type": "execute_result"
    }
   ],
   "source": [
    "# Calculez le nombre de valeurs manquantes pour chaque colonne\n",
    "df.isnull().sum()"
   ]
  },
  {
   "cell_type": "code",
   "execution_count": 3,
   "metadata": {
    "id": "nLUhj9lAo_Yq"
   },
   "outputs": [],
   "source": [
    "# le bmi est la colonne où se trouvent les valeurs manquantes. Ainsi, nous choisirons de remplacer ces valeurs NaN par la moyenne.\n",
    "df['bmi'] = df['bmi'].fillna(df['bmi'].mean())"
   ]
  },
  {
   "cell_type": "markdown",
   "metadata": {
    "id": "su10jIIsekrC"
   },
   "source": [
    "### Categorical features"
   ]
  },
  {
   "cell_type": "code",
   "execution_count": 4,
   "metadata": {
    "colab": {
     "base_uri": "https://localhost:8080/"
    },
    "id": "ZiMaCcPGOk2h",
    "outputId": "9dc520e3-1b4a-4c10-c244-bd7347a91f2c"
   },
   "outputs": [
    {
     "data": {
      "text/plain": [
       "Female    2995\n",
       "Male      2115\n",
       "Name: gender, dtype: int64"
      ]
     },
     "execution_count": 4,
     "metadata": {
      "tags": []
     },
     "output_type": "execute_result"
    }
   ],
   "source": [
    "\"\"\"\n",
    "\"other\" ne représente pas grand-chose. Ainsi, \n",
    "et afin d'éviter les valeurs aberrantes, nous décidons de remplacer par le mode de la colonne genre.\n",
    "\"\"\"\n",
    "df['gender'] = df['gender'].replace('Other', list(df.gender.mode().values)[0])\n",
    "df.gender.value_counts()# print the number of patients for each sex."
   ]
  },
  {
   "cell_type": "code",
   "execution_count": 5,
   "metadata": {
    "colab": {
     "base_uri": "https://localhost:8080/",
     "height": 1000
    },
    "id": "Fu6NpEzSTrD6",
    "outputId": "59ef34b3-5fbc-4d4a-d88a-ee128339b423"
   },
   "outputs": [
    {
     "data": {
      "image/png": "[encoded data removed]",
      "text/plain": [
       "<Figure size 1008x1440 with 8 Axes>"
      ]
     },
     "metadata": {
      "needs_background": "light",
      "tags": []
     },
     "output_type": "display_data"
    }
   ],
   "source": [
    "import matplotlib.pyplot as plt #Les bibliothèques Matplotlib et seaborn sont destinées aux visualisations.\n",
    "import seaborn as sns\n",
    "\"\"\"\n",
    "Nous ferons les visualisations pour les fonctionnalités catégorielles.\n",
    "\"\"\"\n",
    "# La list des columns catégorielles\n",
    "df_cat = ['gender','hypertension','heart_disease','ever_married','work_type','Residence_type','smoking_status', 'stroke']\n",
    "fig, axs = plt.subplots(4, 2, figsize=(14,20))# L'intialization de la figure\n",
    "axs = axs.flatten()\n",
    "\"\"\"\n",
    "parcourir chaque colonne de df_catd et le tracer\n",
    "\"\"\"\n",
    "for i, col_name in enumerate(df_cat):\n",
    "    sns.countplot(x=col_name, data=df, ax=axs[i], hue =df['stroke']) # L'affichage de la visualization.\n",
    "    plt.title(\"Bar chart of\") # Titre\n",
    "    axs[i].set_xlabel(f\"{col_name}\", weight = 'bold') # Libillé de l'axe x\n",
    "    axs[i].set_ylabel('Count', weight='bold')# Libillé de l'axe Y"
   ]
  },
  {
   "cell_type": "markdown",
   "metadata": {
    "id": "eXrtSjCDeooW"
   },
   "source": [
    "### Contunious features"
   ]
  },
  {
   "cell_type": "code",
   "execution_count": 6,
   "metadata": {
    "colab": {
     "base_uri": "https://localhost:8080/",
     "height": 334
    },
    "id": "tKaKlglJca8b",
    "outputId": "ac0b16ed-db72-4b4f-ac1a-ce0272d68234"
   },
   "outputs": [
    {
     "data": {
      "image/png": "[encoded data removed]",
      "text/plain": [
       "<Figure size 1152x360 with 3 Axes>"
      ]
     },
     "metadata": {
      "needs_background": "light",
      "tags": []
     },
     "output_type": "display_data"
    }
   ],
   "source": [
    "\"\"\"\n",
    "Visualisations pour les fonctionnalités continues\n",
    "\"\"\"\n",
    "df_num = ['age', 'avg_glucose_level', 'bmi'] # la list des fonctionnalités continues\n",
    "fig, axs = plt.subplots(1, 3, figsize=(16,5)) # La figure\n",
    "axs = axs.flatten()\n",
    "\"\"\"\n",
    "parcourir chaque colonne dans df_num et tracer\n",
    "\"\"\"\n",
    "for i, col_name in enumerate(df_num):\n",
    "    sns.boxplot(x=\"stroke\", y=col_name, data=df, ax=axs[i]) # La='affichage de la figure\n",
    "    axs[i].set_xlabel(\"Stroke\", weight = 'bold')# libellé de X\n",
    "    axs[i].set_ylabel(f\"{col_name}\", weight='bold')# libellé de Y"
   ]
  },
  {
   "cell_type": "markdown",
   "metadata": {
    "id": "rJ2hlsWoesmv"
   },
   "source": [
    "### Features encoding"
   ]
  },
  {
   "cell_type": "code",
   "execution_count": 7,
   "metadata": {
    "colab": {
     "base_uri": "https://localhost:8080/",
     "height": 215
    },
    "id": "ZGchsEA1Jd9q",
    "outputId": "eb341482-41ab-4d9e-eb49-3519d6729474"
   },
   "outputs": [
    {
     "data": {
      "text/html": [
       "<div>\n",
       "<style scoped>\n",
       "    .dataframe tbody tr th:only-of-type {\n",
       "        vertical-align: middle;\n",
       "    }\n",
       "\n",
       "    .dataframe tbody tr th {\n",
       "        vertical-align: top;\n",
       "    }\n",
       "\n",
       "    .dataframe thead th {\n",
       "        text-align: right;\n",
       "    }\n",
       "</style>\n",
       "<table border=\"1\" class=\"dataframe\">\n",
       "  <thead>\n",
       "    <tr style=\"text-align: right;\">\n",
       "      <th></th>\n",
       "      <th>id</th>\n",
       "      <th>gender</th>\n",
       "      <th>age</th>\n",
       "      <th>hypertension</th>\n",
       "      <th>heart_disease</th>\n",
       "      <th>ever_married</th>\n",
       "      <th>work_type</th>\n",
       "      <th>Residence_type</th>\n",
       "      <th>avg_glucose_level</th>\n",
       "      <th>bmi</th>\n",
       "      <th>smoking_status</th>\n",
       "      <th>stroke</th>\n",
       "    </tr>\n",
       "  </thead>\n",
       "  <tbody>\n",
       "    <tr>\n",
       "      <th>0</th>\n",
       "      <td>9046</td>\n",
       "      <td>1</td>\n",
       "      <td>67.0</td>\n",
       "      <td>0</td>\n",
       "      <td>1</td>\n",
       "      <td>1</td>\n",
       "      <td>2</td>\n",
       "      <td>1</td>\n",
       "      <td>228.69</td>\n",
       "      <td>36.600000</td>\n",
       "      <td>1</td>\n",
       "      <td>1</td>\n",
       "    </tr>\n",
       "    <tr>\n",
       "      <th>1</th>\n",
       "      <td>51676</td>\n",
       "      <td>0</td>\n",
       "      <td>61.0</td>\n",
       "      <td>0</td>\n",
       "      <td>0</td>\n",
       "      <td>1</td>\n",
       "      <td>3</td>\n",
       "      <td>0</td>\n",
       "      <td>202.21</td>\n",
       "      <td>28.893237</td>\n",
       "      <td>2</td>\n",
       "      <td>1</td>\n",
       "    </tr>\n",
       "    <tr>\n",
       "      <th>2</th>\n",
       "      <td>31112</td>\n",
       "      <td>1</td>\n",
       "      <td>80.0</td>\n",
       "      <td>0</td>\n",
       "      <td>1</td>\n",
       "      <td>1</td>\n",
       "      <td>2</td>\n",
       "      <td>0</td>\n",
       "      <td>105.92</td>\n",
       "      <td>32.500000</td>\n",
       "      <td>2</td>\n",
       "      <td>1</td>\n",
       "    </tr>\n",
       "    <tr>\n",
       "      <th>3</th>\n",
       "      <td>60182</td>\n",
       "      <td>0</td>\n",
       "      <td>49.0</td>\n",
       "      <td>0</td>\n",
       "      <td>0</td>\n",
       "      <td>1</td>\n",
       "      <td>2</td>\n",
       "      <td>1</td>\n",
       "      <td>171.23</td>\n",
       "      <td>34.400000</td>\n",
       "      <td>3</td>\n",
       "      <td>1</td>\n",
       "    </tr>\n",
       "    <tr>\n",
       "      <th>4</th>\n",
       "      <td>1665</td>\n",
       "      <td>0</td>\n",
       "      <td>79.0</td>\n",
       "      <td>1</td>\n",
       "      <td>0</td>\n",
       "      <td>1</td>\n",
       "      <td>3</td>\n",
       "      <td>0</td>\n",
       "      <td>174.12</td>\n",
       "      <td>24.000000</td>\n",
       "      <td>2</td>\n",
       "      <td>1</td>\n",
       "    </tr>\n",
       "  </tbody>\n",
       "</table>\n",
       "</div>"
      ],
      "text/plain": [
       "      id  gender   age  ...        bmi  smoking_status  stroke\n",
       "0   9046       1  67.0  ...  36.600000               1       1\n",
       "1  51676       0  61.0  ...  28.893237               2       1\n",
       "2  31112       1  80.0  ...  32.500000               2       1\n",
       "3  60182       0  49.0  ...  34.400000               3       1\n",
       "4   1665       0  79.0  ...  24.000000               2       1\n",
       "\n",
       "[5 rows x 12 columns]"
      ]
     },
     "execution_count": 7,
     "metadata": {
      "tags": []
     },
     "output_type": "execute_result"
    }
   ],
   "source": [
    "from sklearn.preprocessing import LabelEncoder # L'importation de l'objet LabelEncoder\n",
    "\"\"\"\n",
    "Encodage des caractéristiques catégorielles\n",
    "\"\"\"\n",
    "le = LabelEncoder() # La déclaration de l'objet\n",
    "data = df # Gardez une copie des données avant l'encodage\n",
    "data['gender'] = le.fit_transform(data['gender'])# L'encodage de gender\n",
    "data['ever_married'] = le.fit_transform(data['ever_married'])# L'encodage de \"ever_married\"\n",
    "data['work_type'] = le.fit_transform(data['work_type'])# L'encodage de \"work_type\"\n",
    "data['Residence_type'] = le.fit_transform(data['Residence_type'])#L'encodage de \"Residence_type\"\n",
    "data['smoking_status'] = le.fit_transform(data['smoking_status'])#L'encodage de \"smoking_status\"\n",
    "df_en = data# df_en sont les nouvaux données aprés l'encodage.\n",
    "df_en.head()#affichage de l'entêt"
   ]
  },
  {
   "cell_type": "markdown",
   "metadata": {
    "id": "nz0KuOThewe4"
   },
   "source": [
    "### Correlation between features"
   ]
  },
  {
   "cell_type": "code",
   "execution_count": 8,
   "metadata": {
    "colab": {
     "base_uri": "https://localhost:8080/",
     "height": 513
    },
    "id": "94ZGnvs3JeAA",
    "outputId": "9017b8a3-fcf2-46df-d7e6-6615a3e4c7af"
   },
   "outputs": [
    {
     "data": {
      "image/png": "[encoded data removed]",
      "text/plain": [
       "<Figure size 720x504 with 2 Axes>"
      ]
     },
     "metadata": {
      "needs_background": "light",
      "tags": []
     },
     "output_type": "display_data"
    }
   ],
   "source": [
    "# nous utiliserons la carte thermique pour tracer la matrice de corrélation\n",
    "corr = df_en.corr().round(2) # Le calcule de la matrice\n",
    "plt.figure(figsize=(10,7))\n",
    "sns.heatmap(corr, annot = True); # L'affichage de la matrice avec heatmap"
   ]
  },
  {
   "cell_type": "code",
   "execution_count": 9,
   "metadata": {
    "id": "QIsDU2SvqzHk"
   },
   "outputs": [],
   "source": [
    "df_en.drop('ever_married',axis=1,inplace=True) # élimination de ever_maried."
   ]
  },
  {
   "cell_type": "markdown",
   "metadata": {
    "id": "Z1oIHvVNe7Q5"
   },
   "source": [
    "### Data scaling"
   ]
  },
  {
   "cell_type": "code",
   "execution_count": 10,
   "metadata": {
    "colab": {
     "base_uri": "https://localhost:8080/",
     "height": 195
    },
    "id": "wonuyGNpJeFA",
    "outputId": "e15f2960-a138-4707-c50a-f26ccbd48ef9"
   },
   "outputs": [
    {
     "data": {
      "text/html": [
       "<div>\n",
       "<style scoped>\n",
       "    .dataframe tbody tr th:only-of-type {\n",
       "        vertical-align: middle;\n",
       "    }\n",
       "\n",
       "    .dataframe tbody tr th {\n",
       "        vertical-align: top;\n",
       "    }\n",
       "\n",
       "    .dataframe thead th {\n",
       "        text-align: right;\n",
       "    }\n",
       "</style>\n",
       "<table border=\"1\" class=\"dataframe\">\n",
       "  <thead>\n",
       "    <tr style=\"text-align: right;\">\n",
       "      <th></th>\n",
       "      <th>avg_glucose_level</th>\n",
       "      <th>bmi</th>\n",
       "      <th>age</th>\n",
       "    </tr>\n",
       "  </thead>\n",
       "  <tbody>\n",
       "    <tr>\n",
       "      <th>0</th>\n",
       "      <td>2.706375</td>\n",
       "      <td>1.001234e+00</td>\n",
       "      <td>1.051434</td>\n",
       "    </tr>\n",
       "    <tr>\n",
       "      <th>1</th>\n",
       "      <td>2.121559</td>\n",
       "      <td>1.384666e-15</td>\n",
       "      <td>0.786070</td>\n",
       "    </tr>\n",
       "    <tr>\n",
       "      <th>2</th>\n",
       "      <td>-0.005028</td>\n",
       "      <td>4.685773e-01</td>\n",
       "      <td>1.626390</td>\n",
       "    </tr>\n",
       "    <tr>\n",
       "      <th>3</th>\n",
       "      <td>1.437358</td>\n",
       "      <td>7.154182e-01</td>\n",
       "      <td>0.255342</td>\n",
       "    </tr>\n",
       "    <tr>\n",
       "      <th>4</th>\n",
       "      <td>1.501184</td>\n",
       "      <td>-6.357112e-01</td>\n",
       "      <td>1.582163</td>\n",
       "    </tr>\n",
       "  </tbody>\n",
       "</table>\n",
       "</div>"
      ],
      "text/plain": [
       "   avg_glucose_level           bmi       age\n",
       "0           2.706375  1.001234e+00  1.051434\n",
       "1           2.121559  1.384666e-15  0.786070\n",
       "2          -0.005028  4.685773e-01  1.626390\n",
       "3           1.437358  7.154182e-01  0.255342\n",
       "4           1.501184 -6.357112e-01  1.582163"
      ]
     },
     "execution_count": 10,
     "metadata": {
      "tags": []
     },
     "output_type": "execute_result"
    }
   ],
   "source": [
    "\"\"\"\n",
    "Changement de L'échelle des données\n",
    "\"\"\"\n",
    "from sklearn.preprocessing import StandardScaler #importation de l'objet\n",
    "s = StandardScaler()# Initialization de l'objet.\n",
    "columns = ['avg_glucose_level','bmi','age']#La définition des columns à coder.\n",
    "stand_scaled = s.fit_transform(df_en[['avg_glucose_level','bmi','age']])#l'encodage\n",
    "stand_scaled = pd.DataFrame(stand_scaled,columns=columns)#La transformation des données codées à un 'dataframe\"\n",
    "df_en=df_en.drop(columns=columns,axis=1)\n",
    "stand_scaled.head()#L'affichage de l'entêt des donnes codées."
   ]
  },
  {
   "cell_type": "code",
   "execution_count": 11,
   "metadata": {
    "colab": {
     "base_uri": "https://localhost:8080/",
     "height": 136
    },
    "id": "SFoqBuKqOoz1",
    "outputId": "4eb6a14c-7587-4acf-c852-7d21443e9566"
   },
   "outputs": [
    {
     "data": {
      "text/html": [
       "<div>\n",
       "<style scoped>\n",
       "    .dataframe tbody tr th:only-of-type {\n",
       "        vertical-align: middle;\n",
       "    }\n",
       "\n",
       "    .dataframe tbody tr th {\n",
       "        vertical-align: top;\n",
       "    }\n",
       "\n",
       "    .dataframe thead th {\n",
       "        text-align: right;\n",
       "    }\n",
       "</style>\n",
       "<table border=\"1\" class=\"dataframe\">\n",
       "  <thead>\n",
       "    <tr style=\"text-align: right;\">\n",
       "      <th></th>\n",
       "      <th>id</th>\n",
       "      <th>gender</th>\n",
       "      <th>hypertension</th>\n",
       "      <th>heart_disease</th>\n",
       "      <th>work_type</th>\n",
       "      <th>Residence_type</th>\n",
       "      <th>smoking_status</th>\n",
       "      <th>stroke</th>\n",
       "      <th>avg_glucose_level</th>\n",
       "      <th>bmi</th>\n",
       "      <th>age</th>\n",
       "    </tr>\n",
       "  </thead>\n",
       "  <tbody>\n",
       "    <tr>\n",
       "      <th>0</th>\n",
       "      <td>9046</td>\n",
       "      <td>1</td>\n",
       "      <td>0</td>\n",
       "      <td>1</td>\n",
       "      <td>2</td>\n",
       "      <td>1</td>\n",
       "      <td>1</td>\n",
       "      <td>1</td>\n",
       "      <td>2.706375</td>\n",
       "      <td>1.001234e+00</td>\n",
       "      <td>1.051434</td>\n",
       "    </tr>\n",
       "    <tr>\n",
       "      <th>1</th>\n",
       "      <td>51676</td>\n",
       "      <td>0</td>\n",
       "      <td>0</td>\n",
       "      <td>0</td>\n",
       "      <td>3</td>\n",
       "      <td>0</td>\n",
       "      <td>2</td>\n",
       "      <td>1</td>\n",
       "      <td>2.121559</td>\n",
       "      <td>1.384666e-15</td>\n",
       "      <td>0.786070</td>\n",
       "    </tr>\n",
       "    <tr>\n",
       "      <th>2</th>\n",
       "      <td>31112</td>\n",
       "      <td>1</td>\n",
       "      <td>0</td>\n",
       "      <td>1</td>\n",
       "      <td>2</td>\n",
       "      <td>0</td>\n",
       "      <td>2</td>\n",
       "      <td>1</td>\n",
       "      <td>-0.005028</td>\n",
       "      <td>4.685773e-01</td>\n",
       "      <td>1.626390</td>\n",
       "    </tr>\n",
       "  </tbody>\n",
       "</table>\n",
       "</div>"
      ],
      "text/plain": [
       "      id  gender  hypertension  ...  avg_glucose_level           bmi       age\n",
       "0   9046       1             0  ...           2.706375  1.001234e+00  1.051434\n",
       "1  51676       0             0  ...           2.121559  1.384666e-15  0.786070\n",
       "2  31112       1             0  ...          -0.005028  4.685773e-01  1.626390\n",
       "\n",
       "[3 rows x 11 columns]"
      ]
     },
     "execution_count": 11,
     "metadata": {
      "tags": []
     },
     "output_type": "execute_result"
    }
   ],
   "source": [
    "df = pd.concat([df_en, stand_scaled], axis=1) # La concatenation des donnes codés avec les autres données\n",
    "df.head(3)#l'affichade de l'entête"
   ]
  },
  {
   "cell_type": "markdown",
   "metadata": {
    "id": "cAl_k_KFfAYW"
   },
   "source": [
    "### Data split"
   ]
  },
  {
   "cell_type": "code",
   "execution_count": 12,
   "metadata": {
    "id": "XT0iVbi-R9Hw"
   },
   "outputs": [],
   "source": [
    "# diviser les données en entries et en sorties.\n",
    "X = df.drop(['id','stroke'],axis=1) #les entrées\n",
    "y = df['stroke']# les sorties"
   ]
  },
  {
   "cell_type": "code",
   "execution_count": 13,
   "metadata": {
    "id": "dhpR5F30R9dW"
   },
   "outputs": [],
   "source": [
    "# La division des données (Training / Test)\n",
    "from sklearn.model_selection import train_test_split# importation de l'objet train_test_split\n",
    "from sklearn.metrics import accuracy_score,confusion_matrix, accuracy_score, classification_report#l'importation des metriques d'evaluation\n",
    "x_train, x_test, y_train, y_test = train_test_split(X, y, test_size=0.3, random_state= 124)# La dévision des données."
   ]
  },
  {
   "cell_type": "markdown",
   "metadata": {
    "id": "FnUR1-p5fDL2"
   },
   "source": [
    "### Machine learning models"
   ]
  },
  {
   "cell_type": "code",
   "execution_count": 14,
   "metadata": {
    "id": "sWT67WtnoR1n"
   },
   "outputs": [],
   "source": [
    "# Ici, nous importons 3 modèles d'apprentissage automatique\n",
    "from sklearn.ensemble import RandomForestClassifier\n",
    "from sklearn.neighbors import KNeighborsClassifier\n",
    "from sklearn.naive_bayes import GaussianNB"
   ]
  },
  {
   "cell_type": "code",
   "execution_count": 15,
   "metadata": {
    "colab": {
     "base_uri": "https://localhost:8080/"
    },
    "id": "2SlzYWwmjvUW",
    "outputId": "d63d7e5a-4666-4301-c094-79c282db9cca"
   },
   "outputs": [
    {
     "name": "stdout",
     "output_type": "stream",
     "text": [
      "[[1461    3]\n",
      " [  68    1]]\n",
      "Acurracy is 0.9536855838225701\n",
      "              precision    recall  f1-score   support\n",
      "\n",
      "           0       0.96      1.00      0.98      1464\n",
      "           1       0.25      0.01      0.03        69\n",
      "\n",
      "    accuracy                           0.95      1533\n",
      "   macro avg       0.60      0.51      0.50      1533\n",
      "weighted avg       0.92      0.95      0.93      1533\n",
      "\n"
     ]
    }
   ],
   "source": [
    "# Random Forest\n",
    "model = RandomForestClassifier() # Initialization de modéle.\n",
    "model.fit(x_train,y_train) # l'entrainment du modéle.\n",
    "pred = model.predict(x_test) # La prédiction dans les données de Test\n",
    "print('\\n Les performances de \\'Fôret aléatoire\\''+10*'-')\n",
    "print(confusion_matrix(y_test,pred))#L'affichage de la matrice de confusion.\n",
    "print('Acurracy is',accuracy_score(y_test,pred))# affichage de l'accuracy\n",
    "print(classification_report(y_test,pred))#l'affichage du rappot de classification"
   ]
  },
  {
   "cell_type": "code",
   "execution_count": 16,
   "metadata": {
    "colab": {
     "base_uri": "https://localhost:8080/"
    },
    "id": "oC0xegXLkORU",
    "outputId": "a9b54589-b3c6-4346-a4c9-d06e32fc480b"
   },
   "outputs": [
    {
     "name": "stdout",
     "output_type": "stream",
     "text": [
      "[[1457    7]\n",
      " [  66    3]]\n",
      "Acurracy is 0.9523809523809523\n",
      "              precision    recall  f1-score   support\n",
      "\n",
      "           0       0.96      1.00      0.98      1464\n",
      "           1       0.30      0.04      0.08        69\n",
      "\n",
      "    accuracy                           0.95      1533\n",
      "   macro avg       0.63      0.52      0.53      1533\n",
      "weighted avg       0.93      0.95      0.94      1533\n",
      "\n"
     ]
    }
   ],
   "source": [
    "# KNN\n",
    "model = KNeighborsClassifier()# Initialization de modéle.\n",
    "model.fit(x_train,y_train)# l'entrainment du modéle.\n",
    "pred = model.predict(x_test)# La prédiction dans les données de Test\n",
    "print('\\n Les performances de \\'k plus proches voisins\\''+10*'-')\n",
    "print(confusion_matrix(y_test,pred))#L'affichage de la matrice de confusion.\n",
    "print('Acurracy is',accuracy_score(y_test,pred))# affichage de l'accuracy\n",
    "print(classification_report(y_test,pred))#l'affichage du rappot de classification"
   ]
  },
  {
   "cell_type": "code",
   "execution_count": 18,
   "metadata": {
    "colab": {
     "base_uri": "https://localhost:8080/"
    },
    "id": "sd_LqENzkOXq",
    "outputId": "7c93637c-6f18-45c0-99d1-3f69c83f6121"
   },
   "outputs": [
    {
     "name": "stdout",
     "output_type": "stream",
     "text": [
      "[[1311  153]\n",
      " [  42   27]]\n",
      "Acurracy is 0.87279843444227\n",
      "              precision    recall  f1-score   support\n",
      "\n",
      "           0       0.97      0.90      0.93      1464\n",
      "           1       0.15      0.39      0.22        69\n",
      "\n",
      "    accuracy                           0.87      1533\n",
      "   macro avg       0.56      0.64      0.57      1533\n",
      "weighted avg       0.93      0.87      0.90      1533\n",
      "\n"
     ]
    }
   ],
   "source": [
    "# GaussianNB\n",
    "model = GaussianNB()# Initialization de modéle.\n",
    "model.fit(x_train,y_train)# l'entrainment du modéle.\n",
    "pred = model.predict(x_test)# La prédiction dans les données de Test\n",
    "print('\\n Les performances de \\'Naive bayes\\''+10*'-')\n",
    "print(confusion_matrix(y_test,pred))#L'affichage de la matrice de confusion.\n",
    "print('Acurracy is',accuracy_score(y_test,pred))# affichage de l'accuracy\n",
    "print(classification_report(y_test,pred))#l'affichage du rappot de classification"
   ]
  },
  {
   "cell_type": "code",
   "execution_count": null,
   "metadata": {
    "id": "sT1r8_1Zs50Q"
   },
   "outputs": [],
   "source": [
    "!python fr.py"
   ]
  }
 ],
 "metadata": {
  "colab": {
   "collapsed_sections": [],
   "name": "FR.ipynb",
   "provenance": [],
   "toc_visible": true
  },
  "kernelspec": {
   "display_name": "Python 3",
   "language": "python",
   "name": "python3"
  },
  "language_info": {
   "codemirror_mode": {
    "name": "ipython",
    "version": 3
   },
   "file_extension": ".py",
   "mimetype": "text/x-python",
   "name": "python",
   "nbconvert_exporter": "python",
   "pygments_lexer": "ipython3",
   "version": "3.7.6"
  }
 },
 "nbformat": 4,
 "nbformat_minor": 1
}
